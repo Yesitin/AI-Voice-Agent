{
 "cells": [
  {
   "cell_type": "markdown",
   "metadata": {},
   "source": [
    "### Import Libraries"
   ]
  },
  {
   "cell_type": "code",
   "execution_count": 1,
   "metadata": {},
   "outputs": [],
   "source": [
    "from google.auth.transport.requests import Request\n",
    "from email.message import EmailMessage\n",
    "from google.oauth2.credentials import Credentials\n",
    "from google_auth_oauthlib.flow import InstalledAppFlow\n",
    "from googleapiclient.discovery import build\n",
    "from googleapiclient.errors import HttpError\n",
    "from dateutil import parser\n",
    "from typing import Annotated\n",
    "from livekit.agents import llm\n",
    "import logging\n",
    "import sqlite3\n",
    "import datetime\n",
    "import base64\n",
    "import os\n",
    "\n",
    "# Defining Scope for accessing Google servics\n",
    "SCOPES_calendar = [\"https://www.googleapis.com/auth/calendar\"]\n",
    "SCOPES_gmail= ['https://www.googleapis.com/auth/gmail.compose']\n",
    "\n",
    "# Setting up a logging system to track actions in the programm\n",
    "logger = logging.getLogger(\"office-assistant\")\n",
    "logger.setLevel(logging.INFO)"
   ]
  },
  {
   "cell_type": "markdown",
   "metadata": {},
   "source": [
    "### Setup Function"
   ]
  },
  {
   "cell_type": "code",
   "execution_count": 3,
   "metadata": {},
   "outputs": [],
   "source": [
    "def _setup_database():\n",
    "    \"\"\"Initialize the database and create tables if not exists.\"\"\"\n",
    "    db_path = os.path.abspath(\"customer_data.db\")\n",
    "\n",
    "    with sqlite3.connect(db_path) as conn:\n",
    "        cursor = conn.cursor()\n",
    "        cursor.execute(\"\"\"\n",
    "            CREATE TABLE IF NOT EXISTS customers (\n",
    "                id INTEGER PRIMARY KEY AUTOINCREMENT,\n",
    "                name TEXT NOT NULL,\n",
    "                email TEXT NOT NULL\n",
    "            )\n",
    "        \"\"\")\n",
    "        conn.commit()\n",
    "\n",
    "_setup_database()           # this sets up the database\n",
    "\n",
    "\n",
    "def _setup_calendar_service():\n",
    "    \"\"\"Authenticate and return the Google Calendar service.\"\"\"\n",
    "    creds = None\n",
    "    if os.path.exists(\"token_calendar.json\"):\n",
    "        creds = Credentials.from_authorized_user_file(\"token_calendar.json\", SCOPES_calendar)\n",
    "    \n",
    "    # If no valid credentials are found, the user has to authenticate via browser \n",
    "    if not creds or not creds.valid:\n",
    "        if creds and creds.expired and creds.refresh_token:\n",
    "            creds.refresh(Request())\n",
    "        else:\n",
    "            flow = InstalledAppFlow.from_client_secrets_file(\n",
    "                \"credentials_calendar.json\", SCOPES_calendar\n",
    "            )\n",
    "            creds = flow.run_local_server(port=0)\n",
    "        with open(\"token_calendar.json\", \"w\") as token:     # credentials for further use\n",
    "            token.write(creds.to_json())\n",
    "\n",
    "    return build(\"calendar\", \"v3\", credentials=creds)\n",
    "\n",
    "\n",
    "\n",
    "def _setup_gmail_service():\n",
    "    \"\"\"Authenticate the user and save the credentials.\"\"\"\n",
    "    creds = None\n",
    "    script_dir = os.getcwd() # Current script's directory\n",
    "    token_path = os.path.join(script_dir, \"token_gmail.json\")\n",
    "    credentials_path = os.path.join(script_dir, \"credentials_gmail.json\")\n",
    "    \n",
    "    # Load the saved credentials if token.json exists\n",
    "    if os.path.exists(token_path):\n",
    "        creds = Credentials.from_authorized_user_file(token_path)\n",
    "    \n",
    "    # If no valid credentials are found, the user has to authenticate via browser \n",
    "    if not creds or not creds.valid:\n",
    "        if creds and creds.expired and creds.refresh_token:\n",
    "            creds.refresh(Request())\n",
    "        else:\n",
    "            flow = InstalledAppFlow.from_client_secrets_file(credentials_path, SCOPES_gmail)\n",
    "            creds = flow.run_local_server(port=0)\n",
    "\n",
    "        # Save the credentials to token.json\n",
    "        with open(token_path, 'w') as token_file:       # credentials for further use\n",
    "            token_file.write(creds.to_json())\n",
    "    \n",
    "    return build('gmail', 'v1', credentials=creds)"
   ]
  },
  {
   "cell_type": "markdown",
   "metadata": {},
   "source": [
    "### Accessing Google Calendar"
   ]
  },
  {
   "cell_type": "code",
   "execution_count": 11,
   "metadata": {},
   "outputs": [],
   "source": [
    "def create_event(summary: str, description: str, start: str, end: str, timezone: str = \"Europe/Vienna\"):\n",
    "        \"\"\"Creates a new event in the user's Google Calendar.\"\"\"\n",
    "        try:\n",
    "            service = _setup_calendar_service()\n",
    "\n",
    "            # Parsing the start and end times into different format\n",
    "            start = parser.parse(start).isoformat()\n",
    "            end = parser.parse(end).isoformat()\n",
    "\n",
    "            # event dictionary with necessary details\n",
    "            event = {\n",
    "                \"summary\": summary,\n",
    "                \"description\": description,\n",
    "                \"start\": {\"dateTime\": start, \"timeZone\": timezone},\n",
    "                \"end\": {\"dateTime\": end, \"timeZone\": timezone},\n",
    "            }\n",
    "\n",
    "            # Inserting event into user's calendar\n",
    "            event_result = service.events().insert(calendarId=\"primary\", body=event).execute()\n",
    "            return f\"Event created: {event_result.get('htmlLink')}\"\n",
    "        \n",
    "        except HttpError as error:\n",
    "            logger.error(f\"An error occurred: {error}\")\n",
    "            return \"Failed to create event.\""
   ]
  },
  {
   "cell_type": "code",
   "execution_count": null,
   "metadata": {},
   "outputs": [],
   "source": [
    "# functiontest\n",
    "\n",
    "event = {\n",
    "    \"summary\": \"Meeting\",\n",
    "    \"location\": \"123 Example St, City, Country\",\n",
    "    \"description\": \"Meeting for product launch.\",\n",
    "    \"start\": \"2025-02-03T11:00:00\",\n",
    "    \"end\": \"2025-02-03T14:00:00\",\n",
    "    }\n",
    "\n",
    "create_event(\n",
    "    summary=event[\"summary\"],\n",
    "    description=event[\"description\"],\n",
    "    start=event[\"start\"],\n",
    "    end=event[\"end\"]\n",
    ")"
   ]
  },
  {
   "cell_type": "code",
   "execution_count": 4,
   "metadata": {},
   "outputs": [],
   "source": [
    "def get_upcoming_events(max_results: int = 10):\n",
    "    \"\"\"Fetches upcoming events from the user's Google Calendar.\"\"\"\n",
    "    try:\n",
    "        service = _setup_calendar_service()                 # setting up Calendar API service\n",
    "        \n",
    "        now = datetime.datetime.utcnow().isoformat() + \"Z\"       # current time as starting point\n",
    "        \n",
    "        events_result = service.events().list(                   # fetching upcoming events\n",
    "            calendarId=\"primary\",\n",
    "            timeMin=now,\n",
    "            maxResults=max_results,\n",
    "            singleEvents=True,\n",
    "            orderBy=\"startTime\",\n",
    "        ).execute()\n",
    "\n",
    "        events = events_result.get(\"items\", [])                  # extracting events\n",
    "\n",
    "        if not events:\n",
    "            return \"No upcoming events found.\"\n",
    "        \n",
    "        # processing event\n",
    "        return f\"{[{'start': event['start'].get('dateTime', event['start'].get('date')), 'summary': event['summary']} for event in events]}\"\n",
    "\n",
    "    except HttpError as error:\n",
    "        logger.error(f\"An error occurred: {error}\")\n",
    "        return \"Failed to fetch events.\"\n",
    "    except KeyError as e:\n",
    "        logger.error(f\"Missing key in event data: {e}\")\n",
    "        return \"Invalid event data format.\""
   ]
  },
  {
   "cell_type": "code",
   "execution_count": 5,
   "metadata": {},
   "outputs": [
    {
     "data": {
      "text/plain": [
       "\"[{'start': '2025-02-03T09:00:00+01:00', 'summary': 'meeting product launch'}]\""
      ]
     },
     "execution_count": 5,
     "metadata": {},
     "output_type": "execute_result"
    }
   ],
   "source": [
    "# functiontest\n",
    "\n",
    "get_upcoming_events()"
   ]
  },
  {
   "cell_type": "markdown",
   "metadata": {},
   "source": [
    "### Accessing Gmail"
   ]
  },
  {
   "cell_type": "code",
   "execution_count": 16,
   "metadata": {},
   "outputs": [],
   "source": [
    "def gmail_create_draft(\n",
    "        recipient: Annotated[str, llm.TypeInfo(description=\"Email recipient\")],\n",
    "        subject: Annotated[str, llm.TypeInfo(description=\"Email subject\")],\n",
    "        body: Annotated[str, llm.TypeInfo(description=\"Email body\")],\n",
    "    ):\n",
    "        \"\"\"Create and insert a draft email.\"\"\"\n",
    "        service = _setup_gmail_service()\n",
    "\n",
    "        try:\n",
    "            # Create email message\n",
    "            message = EmailMessage()\n",
    "            message.set_content(body)\n",
    "            message[\"To\"] = recipient\n",
    "            message[\"Subject\"] = subject\n",
    "\n",
    "            # Encode the message \n",
    "            encoded_message = base64.urlsafe_b64encode(message.as_bytes()).decode()\n",
    "            create_message = {\"message\": {\"raw\": encoded_message}}\n",
    "\n",
    "            # Create a draft with Gmail API\n",
    "            draft = service.users().drafts().create(userId=\"me\", body=create_message).execute()\n",
    "            logger.info(f'Draft id: {draft[\"id\"]}\\nDraft message: {draft[\"message\"]}')\n",
    "            return draft\n",
    "        \n",
    "        except HttpError as error:\n",
    "            logger.info(f\"An error occurred: {error}\")\n",
    "            draft = None\n",
    "            return \"Failed to create draft\""
   ]
  },
  {
   "cell_type": "code",
   "execution_count": null,
   "metadata": {},
   "outputs": [],
   "source": [
    "# functiontest\n",
    "\n",
    "gmail_create_draft(\"alice.smith@example.com\", \"Test mail\", \"Hi, this is just a test mail\")"
   ]
  },
  {
   "cell_type": "code",
   "execution_count": 18,
   "metadata": {},
   "outputs": [],
   "source": [
    "def gmail_send_message(\n",
    "        recipient: Annotated[str, llm.TypeInfo(description=\"Email recipient\")],\n",
    "        subject: Annotated[str, llm.TypeInfo(description=\"Email subject\")],\n",
    "        body: Annotated[str, llm.TypeInfo(description=\"Email body\")],\n",
    "    ):\n",
    "        \"\"\"Create and send an email message\n",
    "        Print the returned  message id\n",
    "        Returns: Message object, including message id\n",
    "        \"\"\"\n",
    "        service = _setup_gmail_service()\n",
    "\n",
    "        try:\n",
    "            # creating email message\n",
    "            message = EmailMessage()\n",
    "            message.set_content(body)\n",
    "            message[\"To\"] = recipient\n",
    "            message[\"Subject\"] = subject\n",
    "\n",
    "            # Encode the message\n",
    "            encoded_message = base64.urlsafe_b64encode(message.as_bytes()).decode()\n",
    "            create_message = {\"raw\": encoded_message}\n",
    "\n",
    "            # send mail using Gmail API\n",
    "            send_message = (\n",
    "                service.users()\n",
    "                .messages()\n",
    "                .send(userId=\"me\", body=create_message)\n",
    "                .execute()\n",
    "            )\n",
    "            logger.info(f'Message Id: {send_message[\"id\"]}')\n",
    "            return send_message\n",
    "        \n",
    "        except HttpError as error:\n",
    "            logger.info(f\"An error occurred: {error}\")\n",
    "            send_message = None\n",
    "            return \"Failed to send mail\""
   ]
  },
  {
   "cell_type": "code",
   "execution_count": null,
   "metadata": {},
   "outputs": [],
   "source": [
    "# functiontest\n",
    "\n",
    "gmail_send_message(\"alice.smith@example.com\", \"Test mail\", \"Hi this is just a test mail\")"
   ]
  },
  {
   "cell_type": "markdown",
   "metadata": {},
   "source": [
    "### Accessing SQL Database"
   ]
  },
  {
   "cell_type": "code",
   "execution_count": 20,
   "metadata": {},
   "outputs": [],
   "source": [
    "def add_customer(name: str, email: str):\n",
    "    try:\n",
    "        # connect with the database and insert new entry\n",
    "        with sqlite3.connect(\"customer_data.db\") as conn:\n",
    "            cursor = conn.cursor()\n",
    "            cursor.execute(\"INSERT INTO customers (name, email) VALUES (?, ?)\", (name, email))\n",
    "            conn.commit()\n",
    "\n",
    "        return f\"Customer {name} added successfully.\"\n",
    "    \n",
    "    except sqlite3.IntegrityError:\n",
    "        return f\"Customer {name} already exists.\""
   ]
  },
  {
   "cell_type": "code",
   "execution_count": 21,
   "metadata": {},
   "outputs": [
    {
     "data": {
      "text/plain": [
       "'Customer Bob Johnson added successfully.'"
      ]
     },
     "execution_count": 21,
     "metadata": {},
     "output_type": "execute_result"
    }
   ],
   "source": [
    "# functiontest\n",
    "\n",
    "add_customer(\"Bob Johnson\", \"bob.johnson@example.com\")"
   ]
  },
  {
   "cell_type": "code",
   "execution_count": 29,
   "metadata": {},
   "outputs": [],
   "source": [
    "def get_customer(name: str):\n",
    "    # connect with the database and query it\n",
    "    with sqlite3.connect(\"customer_data.db\") as conn:\n",
    "        cursor = conn.cursor()\n",
    "        cursor.execute(\"SELECT * FROM customers WHERE name = ?\", (name,))\n",
    "        result = cursor.fetchone()\n",
    "\n",
    "    if result:\n",
    "        return f\"Customer Name: {result[1]}, Email: {result[2]}\"\n",
    "    \n",
    "    return f\"Customer {name} not found.\""
   ]
  },
  {
   "cell_type": "code",
   "execution_count": 30,
   "metadata": {},
   "outputs": [
    {
     "data": {
      "text/plain": [
       "'Customer Name: Bob Johnson, Email: bob.johnson@example.com'"
      ]
     },
     "execution_count": 30,
     "metadata": {},
     "output_type": "execute_result"
    }
   ],
   "source": [
    "# functiontest\n",
    "\n",
    "get_customer(\"Bob Johnson\")"
   ]
  }
 ],
 "metadata": {
  "kernelspec": {
   "display_name": "Python 3",
   "language": "python",
   "name": "python3"
  },
  "language_info": {
   "codemirror_mode": {
    "name": "ipython",
    "version": 3
   },
   "file_extension": ".py",
   "mimetype": "text/x-python",
   "name": "python",
   "nbconvert_exporter": "python",
   "pygments_lexer": "ipython3",
   "version": "3.11.2"
  }
 },
 "nbformat": 4,
 "nbformat_minor": 2
}
